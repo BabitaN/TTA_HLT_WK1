{
 "metadata": {
  "language_info": {
   "codemirror_mode": {
    "name": "ipython",
    "version": 3
   },
   "file_extension": ".py",
   "mimetype": "text/x-python",
   "name": "python",
   "nbconvert_exporter": "python",
   "pygments_lexer": "ipython3",
   "version": "3.9.2-final"
  },
  "orig_nbformat": 2,
  "kernelspec": {
   "name": "python3",
   "display_name": "Python 3.9.2 64-bit",
   "metadata": {
    "interpreter": {
     "hash": "7bbdf544da3e51cde7099b59352338958df2ebb7a70c2661d449ba3f33e5d875"
    }
   }
  }
 },
 "nbformat": 4,
 "nbformat_minor": 2,
 "cells": [
  {
   "cell_type": "code",
   "execution_count": 19,
   "metadata": {},
   "outputs": [
    {
     "output_type": "stream",
     "name": "stdout",
     "text": [
      "Hello World\n"
     ]
    }
   ],
   "source": [
    "print(\"Hello World\")"
   ]
  },
  {
   "cell_type": "code",
   "execution_count": 16,
   "metadata": {},
   "outputs": [
    {
     "output_type": "stream",
     "name": "stdout",
     "text": [
      "Well, Babita I am thinking of a number between 1 and 10.\n",
      "Good job,Babita!You guessed my number\n"
     ]
    }
   ],
   "source": [
    "import random\n",
    "myName=input(\"Hello! What is your name?\")\n",
    "number=random.randint(1,10)\n",
    "print(\"Well, \"+myName+\" I am thinking of a number between 1 and 10.\")\n",
    "guess=int(input(\"Take a guess:\"))\n",
    "if guess==number:\n",
    "    print(\"Good job,\"+myName+\"!You guessed my number\")\n",
    "else:\n",
    "    print(\"Wrong, better luck next time\")"
   ]
  },
  {
   "cell_type": "code",
   "execution_count": 15,
   "metadata": {},
   "outputs": [
    {
     "output_type": "stream",
     "name": "stdout",
     "text": [
      "Did you hear about the guy whose whole left side got amputated? He's all right now.\n"
     ]
    }
   ],
   "source": [
    "import random\n",
    "faveNumber=int(input(\"What is you favourite number between 1 and 100:?\"))\n",
    "Number1=random.randint(1,33)\n",
    "Number2=random.randint(34,63)\n",
    "if faveNumber<Number1:\n",
    "    print(\"Most people are shocked when they find out how bad I am as an electrician.\")\n",
    "elif faveNumber<Number2:\n",
    "    print(\"Did you hear about the guy whose whole left side got amputated? He's all right now.\")\n",
    "else:\n",
    "    print(\"My boss is going to fire the employee with the worst posture. I have a hunch,it might be me.\")"
   ]
  },
  {
   "cell_type": "code",
   "execution_count": 12,
   "metadata": {},
   "outputs": [
    {
     "output_type": "stream",
     "name": "stdout",
     "text": [
      "Your favourite meal is steak; with carpaccio for starters and a cheese selection for dessert with a glass of wine.\n"
     ]
    }
   ],
   "source": [
    "Str1=input(\"What is your favourite starter?\")\n",
    "Str2=input(\"What is your favourite main course?\")\n",
    "Str3=input(\"What is your favourite dessert?\")\n",
    "Str4=input(\"What is your favourite drink?\")\n",
    "print(\"Your favourite meal is \"+Str2+\"; with \"+Str1+\" for starters and \"+Str3+\" for dessert with a glass of \"+Str4+\".\")"
   ]
  },
  {
   "cell_type": "code",
   "execution_count": 11,
   "metadata": {},
   "outputs": [
    {
     "output_type": "stream",
     "name": "stdout",
     "text": [
      "1800.0\n1620.0\n1458.0\n1312.2\n1180.98\n1062.882\n956.5938000000001\n"
     ]
    }
   ],
   "source": [
    "var1=2000\n",
    "while  var1>999:\n",
    "    var1=var1*0.9\n",
    "    print (var1)"
   ]
  },
  {
   "cell_type": "code",
   "execution_count": 25,
   "metadata": {},
   "outputs": [
    {
     "output_type": "stream",
     "name": "stdout",
     "text": [
      "8.0\n"
     ]
    }
   ],
   "source": [
    "import math\n",
    "Number1=float(input(\"Give me your first number\"))\n",
    "Number2=float(input(\"Give me your second number\"))\n",
    "menu=input(\"Choose from letters: a for add, b for subtract, c for multiply, d for divide, e for 'to the power of'\")\n",
    "if menu=='a':\n",
    "     result=Number1+Number2\n",
    "     print(result)\n",
    "elif menu=='b':\n",
    "    result=Number1-Number2\n",
    "    print(result)\n",
    "elif menu=='c':\n",
    "    result=Number1*Number2\n",
    "    print(result)\n",
    "elif menu=='d':\n",
    "    result=Number1/Number2\n",
    "    print(result)\n",
    "elif menu=='e':\n",
    "    result=Number1**Number2\n",
    "    print(result)\n",
    "else:\n",
    "    print('Enter a valid option')"
   ]
  }
 ]
}